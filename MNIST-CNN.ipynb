{
 "cells": [
  {
   "cell_type": "code",
   "execution_count": 4,
   "metadata": {
    "collapsed": true
   },
   "outputs": [],
   "source": [
    "#使用TensorFlow 之前，首先导入它\n",
    "import tensorflow as tf"
   ]
  },
  {
   "cell_type": "code",
   "execution_count": 5,
   "metadata": {
    "collapsed": false,
    "scrolled": true
   },
   "outputs": [
    {
     "name": "stdout",
     "output_type": "stream",
     "text": [
      "Extracting MNIST_data/train-images-idx3-ubyte.gz\n",
      "Extracting MNIST_data/train-labels-idx1-ubyte.gz\n",
      "Extracting MNIST_data/t10k-images-idx3-ubyte.gz\n",
      "Extracting MNIST_data/t10k-labels-idx1-ubyte.gz\n"
     ]
    }
   ],
   "source": [
    "import input_data\n",
    "mnist = input_data.read_data_sets(\"MNIST_data/\", one_hot=True)"
   ]
  },
  {
   "cell_type": "code",
   "execution_count": 6,
   "metadata": {
    "collapsed": false
   },
   "outputs": [],
   "source": [
    "sess = tf.InteractiveSession()"
   ]
  },
  {
   "cell_type": "code",
   "execution_count": 14,
   "metadata": {
    "collapsed": true
   },
   "outputs": [],
   "source": [
    "# 我们先从创建输入图像和输出类别的节点来创建计算图。\n",
    "x = tf.placeholder(\"float\", shape=[None, 784])\n",
    "y_ = tf.placeholder(\"float\", shape=[None, 10])"
   ]
  },
  {
   "cell_type": "code",
   "execution_count": 15,
   "metadata": {
    "collapsed": true
   },
   "outputs": [],
   "source": [
    "sess.run(tf.initialize_all_variables())"
   ]
  },
  {
   "cell_type": "code",
   "execution_count": 16,
   "metadata": {
    "collapsed": true
   },
   "outputs": [],
   "source": [
    "# 权重初始化\n",
    "\n",
    "# 在创建模型之前，我们先来创建权重和偏置。一般来说，初始化时应加入轻微噪声，\n",
    "# 来打破对称性，防止零梯度的问题。因为我们用的是ReLU，所以用稍大于0的值来初\n",
    "# 始化偏置能够避免节点输出恒为0 的问题（dead neurons）。为了不在建立模型的时候\n",
    "# 反复做初始化操作，我们定义两个函数用于初始化。\n",
    "def weight_variable(shape):\n",
    "    initial = tf.truncated_normal(shape, stddev=0.1)\n",
    "    return tf.Variable(initial)\n",
    "\n",
    "def bias_variable(shape):\n",
    "    initial = tf.constant(0.1, shape=shape)\n",
    "    return tf.Variable(initial)"
   ]
  },
  {
   "cell_type": "code",
   "execution_count": 17,
   "metadata": {
    "collapsed": true
   },
   "outputs": [],
   "source": [
    "# 卷积和池化\n",
    "\n",
    "# TensorFlow 在卷积和池化上有很强的灵活性。我们怎么处理边界？步长应该设多\n",
    "# 大？在这个实例里，我们会一直使用vanilla 版本。我们的卷积使用1 步长（stride size），\n",
    "# 0 边距（padding size）的模板，保证输出和输入是同一个大小。我们的池化用简单传统\n",
    "# 的2*2 大小的模板做max pooling。为了代码更简洁，我们把这部分抽象成一个函数。\n",
    "def conv2d(x, W):\n",
    "    return tf.nn.conv2d(x, W, strides=[1, 1, 1, 1], padding='SAME')\n",
    "\n",
    "def max_pool_2x2(x):\n",
    "    return tf.nn.max_pool(x, ksize=[1, 2, 2, 1], strides=[1, 2, 2, 1], padding='SAME')"
   ]
  },
  {
   "cell_type": "code",
   "execution_count": 18,
   "metadata": {
    "collapsed": false
   },
   "outputs": [],
   "source": [
    "# 第一层卷积\n",
    "\n",
    "# 现在我们可以开始实现第一层了。它由一个卷积接一个max pooling 完成。卷积在\n",
    "# 每个5*5 的patch 中算出32 个特征。权重是一个[5, 5, 1, 32]的张量，前两个维度是\n",
    "# patch 的大小，接着是输入的通道数目，最后是输出的通道数目。输出对应一个同样大\n",
    "# 小的偏置向量。\n",
    "W_conv1 = weight_variable([5, 5, 1, 32])\n",
    "b_conv1 = bias_variable([32])\n",
    "\n",
    "# 为了用这一层，我们把x变成一个4d 向量，第2、3 维对应图片的宽高，最后一维代\n",
    "# 表颜色通道。\n",
    "x_image = tf.reshape(x, [-1,28,28,1])\n",
    "\n",
    "# 我们把x_image和权值向量进行卷积相乘，加上偏置，使用ReLU激活函数，最后max\n",
    "# pooling。\n",
    "h_conv1 = tf.nn.relu(conv2d(x_image, W_conv1) + b_conv1)\n",
    "h_pool1 = max_pool_2x2(h_conv1)"
   ]
  },
  {
   "cell_type": "code",
   "execution_count": 20,
   "metadata": {
    "collapsed": true
   },
   "outputs": [],
   "source": [
    "# 第二层卷积\n",
    "\n",
    "# 为了构建一个更深的网络，我们会把几个类似的层堆叠起来。第二层中，每个5x5\n",
    "# 的patch 会得到64 个特征。\n",
    "W_conv2 = weight_variable([5, 5, 32, 64])\n",
    "b_conv2 = bias_variable([64])\n",
    "\n",
    "h_conv2 = tf.nn.relu(conv2d(h_pool1, W_conv2) + b_conv2)\n",
    "h_pool2 = max_pool_2x2(h_conv2)"
   ]
  },
  {
   "cell_type": "code",
   "execution_count": 21,
   "metadata": {
    "collapsed": false
   },
   "outputs": [],
   "source": [
    "# 密集连接层\n",
    "\n",
    "# 现在，图片降维到7*7，我们加入一个有1024 个神经元的全连接层，用于处理整\n",
    "# 个图片。我们把池化层输出的张量reshape 成一些向量，乘上权重矩阵，加上偏置，使\n",
    "# 用ReLU 激活。\n",
    "W_fc1 = weight_variable([7 * 7 * 64, 1024])\n",
    "b_fc1 = bias_variable([1024])\n",
    "h_pool2_flat = tf.reshape(h_pool2, [-1, 7*7*64])\n",
    "h_fc1 = tf.nn.relu(tf.matmul(h_pool2_flat , W_fc1) + b_fc1)"
   ]
  },
  {
   "cell_type": "code",
   "execution_count": 22,
   "metadata": {
    "collapsed": true
   },
   "outputs": [],
   "source": [
    "# Dropout\n",
    "\n",
    "# 为了减少过拟合，我们在输出层之前加入dropout。我们用一个placeholder 来代表\n",
    "# 一个神经元在dropout 中被保留的概率。这样我们可以在训练过程中启用dropout，在\n",
    "# 测试过程中关闭dropout。TensorFlow 的tf.nn.dropout操作会自动处理神经元输出值的\n",
    "# scale。所以用dropout 的时候可以不用考虑scale。\n",
    "keep_prob = tf.placeholder(\"float\")\n",
    "h_fc1_drop = tf.nn.dropout(h_fc1, keep_prob)"
   ]
  },
  {
   "cell_type": "code",
   "execution_count": 23,
   "metadata": {
    "collapsed": true
   },
   "outputs": [],
   "source": [
    "# 输出层\n",
    "\n",
    "# 最后，我们添加一个softmax 层，就像前面的单层softmax regression 一样。\n",
    "W_fc2 = weight_variable([1024, 10])\n",
    "b_fc2 = bias_variable([10])\n",
    "\n",
    "y_conv=tf.nn.softmax(tf.matmul(h_fc1_drop, W_fc2) + b_fc2)"
   ]
  },
  {
   "cell_type": "code",
   "execution_count": null,
   "metadata": {
    "collapsed": false
   },
   "outputs": [
    {
     "name": "stdout",
     "output_type": "stream",
     "text": [
      "step 0, training accuracy 0.14\n",
      "step 100, training accuracy 0.82\n",
      "step 200, training accuracy 0.9\n"
     ]
    }
   ],
   "source": [
    "# 训练和评估模型\n",
    "\n",
    "# 这次效果又有多好呢？我们用前面几乎一样的代码来测测看。只是我们会用更加复\n",
    "# 杂的ADAM 优化器来做梯度最速下降，在feed_dict 中加入额外的参数keep_prob 来控\n",
    "# 制dropout 比例。然后每100 次迭代输出一次日志。\n",
    "cross_entropy = tf.reduce_mean(-tf.reduce_sum(y_ * tf.log(y_conv), reduction_indices=[1]))\n",
    "train_step = tf.train.AdamOptimizer(1e-4).minimize(cross_entropy)\n",
    "correct_prediction = tf.equal(tf.argmax(y_conv,1), tf.argmax(y_,1))\n",
    "accuracy = tf.reduce_mean(tf.cast(correct_prediction, tf.float32))\n",
    "sess.run(tf.initialize_all_variables())\n",
    "for i in range(20000):\n",
    "  batch = mnist.train.next_batch(50)\n",
    "  if i%100 == 0:\n",
    "    train_accuracy = accuracy.eval(feed_dict={x:batch[0], y_: batch[1], keep_prob: 1.0})\n",
    "    print(\"step %d, training accuracy %g\"%(i, train_accuracy))\n",
    "  train_step.run(feed_dict={x: batch[0], y_: batch[1], keep_prob: 0.5})\n",
    "\n",
    "print(\"test accuracy %g\"%accuracy.eval(feed_dict={\n",
    "    x: mnist.test.images, y_: mnist.test.labels, keep_prob: 1.0}))"
   ]
  },
  {
   "cell_type": "code",
   "execution_count": null,
   "metadata": {
    "collapsed": true
   },
   "outputs": [],
   "source": []
  }
 ],
 "metadata": {
  "celltoolbar": "Raw Cell Format",
  "kernelspec": {
   "display_name": "Python [Root]",
   "language": "python",
   "name": "Python [Root]"
  },
  "language_info": {
   "codemirror_mode": {
    "name": "ipython",
    "version": 2
   },
   "file_extension": ".py",
   "mimetype": "text/x-python",
   "name": "python",
   "nbconvert_exporter": "python",
   "pygments_lexer": "ipython2",
   "version": "2.7.12"
  }
 },
 "nbformat": 4,
 "nbformat_minor": 0
}
